{
  "nbformat": 4,
  "nbformat_minor": 0,
  "metadata": {
    "colab": {
      "provenance": [],
      "authorship_tag": "ABX9TyNjcaaHOnfQ8J/ZsN+umsJL",
      "include_colab_link": true
    },
    "kernelspec": {
      "name": "python3",
      "display_name": "Python 3"
    },
    "language_info": {
      "name": "python"
    }
  },
  "cells": [
    {
      "cell_type": "markdown",
      "metadata": {
        "id": "view-in-github",
        "colab_type": "text"
      },
      "source": [
        "<a href=\"https://colab.research.google.com/github/harini27-harini/Phase-2/blob/main/Phase_2.ipynb\" target=\"_parent\"><img src=\"https://colab.research.google.com/assets/colab-badge.svg\" alt=\"Open In Colab\"/></a>"
      ]
    },
    {
      "cell_type": "code",
      "execution_count": 1,
      "metadata": {
        "colab": {
          "base_uri": "https://localhost:8080/"
        },
        "id": "f18LvGbEJXMp",
        "outputId": "eb1a7e81-2bb6-4b3e-8f6c-c50f4513fed3"
      },
      "outputs": [
        {
          "output_type": "stream",
          "name": "stdout",
          "text": [
            "          timestamp                                            comment  \\\n",
            "0  2025-05-01 10:00  Absolutely love the new features in this product!   \n",
            "1  2025-05-01 10:30  Terrible experience. I expected better perform...   \n",
            "2  2025-05-01 11:00           It’s okay, not bad but not great either.   \n",
            "\n",
            "  sentiment  \n",
            "0  Positive  \n",
            "1  Negative  \n",
            "2  Positive  \n"
          ]
        }
      ],
      "source": [
        "from textblob import TextBlob\n",
        "import pandas as pd\n",
        "\n",
        "# Sample data (replace this with actual tweets, comments, or reviews)\n",
        "data = {\n",
        "    'timestamp': ['2025-05-01 10:00', '2025-05-01 10:30', '2025-05-01 11:00'],\n",
        "    'comment': [\n",
        "        'Absolutely love the new features in this product!',\n",
        "        'Terrible experience. I expected better performance.',\n",
        "        'It’s okay, not bad but not great either.'\n",
        "    ]\n",
        "}\n",
        "\n",
        "# Create a DataFrame\n",
        "df = pd.DataFrame(data)\n",
        "\n",
        "# Function to get sentiment\n",
        "def analyze_sentiment(text):\n",
        "    blob = TextBlob(text)\n",
        "    polarity = blob.sentiment.polarity\n",
        "    if polarity > 0:\n",
        "        return 'Positive'\n",
        "    elif polarity < 0:\n",
        "        return 'Negative'\n",
        "    else:\n",
        "        return 'Neutral'\n",
        "\n",
        "# Apply sentiment analysis\n",
        "df['sentiment'] = df['comment'].apply(analyze_sentiment)\n",
        "\n",
        "# Print results\n",
        "print(df)"
      ]
    }
  ]
}