import matplotlib.pyplot as plt

from matplotlib.patches import FancyBboxPatch



steps = [

    "Data Collection",

    "Data Cleaning & Preprocessing",

    "Exploratory Data Analysis (EDA)",

    "Feature Engineering",

    "Model Building (Logistic Regression, Random Forest, etc.)",

    "Model Evaluation",

    "Insights & Recommendations",

    "Visualization & Reporting"

]



fig, ax = plt.subplots(figsize=(10, 12))

ax.set_xlim(0, 10)

ax.set_ylim(0, len(steps) * 2)



for i, step in enumerate(reversed(steps)):

    y = i * 2 + 1

    box = FancyBboxPatch((2, y), 6, 1, boxstyle="round,pad=0.3", edgecolor="black", facecolor="white", linewidth=2)

    ax.add_patch(box)

    ax.text(5, y + 0.5, step, va="center", ha="center", fontsize=10, fontweight="bold")

    

    # Draw arrow unless it's the last step

    if i != len(steps) - 1:

        ax.annotate('', xy=(5, y), xytext=(5, y - 1),

                    arrowprops=dict(arrowstyle="->", lw=2))



ax.axis('off')

plt.tight_layout()

plt.show()

