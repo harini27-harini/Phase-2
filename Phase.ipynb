{
  "nbformat": 4,
  "nbformat_minor": 0,
  "metadata": {
    "colab": {
      "provenance": [],
      "authorship_tag": "ABX9TyNLpnf8LNFoqSdcyAftCPr/",
      "include_colab_link": true
    },
    "kernelspec": {
      "name": "python3",
      "display_name": "Python 3"
    },
    "language_info": {
      "name": "python"
    }
  },
  "cells": [
    {
      "cell_type": "markdown",
      "metadata": {
        "id": "view-in-github",
        "colab_type": "text"
      },
      "source": [
        "<a href=\"https://colab.research.google.com/github/harini27-harini/Phase-2/blob/main/Phase.ipynb\" target=\"_parent\"><img src=\"https://colab.research.google.com/assets/colab-badge.svg\" alt=\"Open In Colab\"/></a>"
      ]
    },
    {
      "cell_type": "code",
      "execution_count": null,
      "metadata": {
        "colab": {
          "base_uri": "https://localhost:8080/",
          "height": 126
        },
        "id": "apV5PvDo3ODB",
        "outputId": "bf7c50f6-1c3a-4fb2-e30a-f23b32112e61"
      },
      "outputs": [
        {
          "output_type": "error",
          "ename": "SyntaxError",
          "evalue": "invalid syntax (<ipython-input-9-16da2f094765>, line 17)",
          "traceback": [
            "\u001b[0;36m  File \u001b[0;32m\"<ipython-input-9-16da2f094765>\"\u001b[0;36m, line \u001b[0;32m17\u001b[0m\n\u001b[0;31m    to scrape\u001b[0m\n\u001b[0m       ^\u001b[0m\n\u001b[0;31mSyntaxError\u001b[0m\u001b[0;31m:\u001b[0m invalid syntax\n"
          ]
        }
      ],
      "source": [
        "import snscrape.modules.twitter as sntwitter\n",
        "import pandas as pd\n",
        "import matplotlib.pyplot as plt\n",
        "import seaborn as sns\n",
        "import nltk\n",
        "from nltk.sentiment.vader import SentimentIntensityAnalyzer\n",
        "\n",
        "# Download VADER lexicon\n",
        "nltk.download('vader_lexicon')\n",
        "\n",
        "# Initialize Sentiment Analyzer\n",
        "sia =SentimentIntensityAnalyzer()\n",
        "\n",
        "# Parameters\n",
        "query = \"Apple iPhone 15 launch\"\n",
        "limit = 200  # Number of tweets\n",
        "to scrape\n",
        "\n",
        "# Collect tweets using snscrape\n",
        "tweets = []\n",
        "for i, tweet in enumerate(sntwitter.TwitterSearchScraper(f'{query} lang:en').get_items()):\n",
        "    if i >= limit:\n",
        "        break\n",
        "    tweets.append([tweet.date, tweet.user.username, tweet.content])\n",
        "\n",
        "# Create DataFrame\n",
        "df = pd.DataFrame(tweets, columns=['Date', 'User', 'Tweet'])\n",
        "\n",
        "# Sentiment Analysis\n",
        "def get_sentiment(text):\n",
        "    score = sia.polarity_scores(text)\n",
        "    if score['compound'] >=0.05:\n",
        "        return 'Positive'\n",
        "    elif score['compound'] <=-0.05:\n",
        "        return 'Negative'\n",
        "    else:\n",
        "        return 'Neutral'\n",
        "\n",
        "df['Sentiment'] = df['Tweet'].apply(get_sentiment)\n",
        "\n",
        "# Visualization\n",
        "sns.countplot(data=df, x='Sentiment', palette='pastel')\n",
        "plt.title(\"Sentiment Distribution for Product Launch\")\n",
        "plt.xlabel(\"Sentiment\")\n",
        "plt.ylabel(\"Number of Tweets\")\n",
        "plt.show()\n",
        "\n",
        "# Save to CSV\n",
        "df.to_csv(\"tweet_sentiment_analysis.csv\", index=False)"
      ]
    }
  ]
}